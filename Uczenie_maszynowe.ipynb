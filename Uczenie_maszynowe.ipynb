{
 "cells": [
  {
   "cell_type": "markdown",
   "id": "22fe4637",
   "metadata": {
    "slideshow": {
     "slide_type": "slide"
    }
   },
   "source": [
    "# O uczeniu maszynowym z przykładami\n",
    "\n",
    "Artur Kalinowski <br>\n",
    "Uniwersytet Warszawski <br>\n",
    "Wydział Fizyki <br>\n",
    "\n",
    "\n",
    "\n",
    "Letnia Szkoła Fizyki 2023 <br>"
   ]
  },
  {
   "cell_type": "markdown",
   "id": "4befebe2",
   "metadata": {
    "slideshow": {
     "slide_type": "slide"
    }
   },
   "source": [
    "\n",
    "**Uczenie maszynowe** , samouczenie się maszyn albo systemy uczące się (ang. machine learning) – obszar sztucznej inteligencji poświęcony algorytmom, które poprawiają się automatycznie poprzez doświadczenie, czyli ekspozycję na dane. \n",
    "\n",
    "[Uczenie maszynowe. Wikipedia : wolna encyklopedia, 2022-12-23 20:26Z](https://pl.wikipedia.org/wiki/Uczenie_maszynowe)\n"
   ]
  },
  {
   "cell_type": "markdown",
   "id": "939277a7",
   "metadata": {
    "slideshow": {
     "slide_type": "fragment"
    }
   },
   "source": [
    "\n",
    "**Algorytm** – skończony ciąg jasno zdefiniowanych czynności koniecznych do wykonania pewnego rodzaju zadań, sposób postępowania prowadzący do rozwiązania problemu. Można go przedstawić na schemacie blokowym.\n",
    "\n",
    "[Algorytm. Wikipedia : wolna encyklopedia, 2023-03-13 09:38Z](https://pl.wikipedia.org/wiki/Algorytm) "
   ]
  },
  {
   "cell_type": "markdown",
   "id": "3a81b61c",
   "metadata": {
    "slideshow": {
     "slide_type": "slide"
    }
   },
   "source": [
    "<div class=\"row\">\n",
    "  <div class=\"col-md-6\" markdown=\"1\">\n",
    "  <img height=\"600px\" class=\"center-block\" alt=\"block diagram\", \n",
    "       src=\"./fig_png/diagram_1.png\">\n",
    "  </div>\n",
    "  <div class=\"col-md-6\" markdown=\"1\">  \n",
    "      \n",
    "   **Dane** - dowolny zestaw liczb: **X**\n",
    "      <br> <br> <br>\n",
    "   **Wynik** - dowolny inny zestaw liczb: **Y** \n",
    "      <br> <br> <br> \n",
    "   **Zadanie** - wykonanie obliczeń na danych, czyli znalezienie wartości pewnej funkcji, np.<br>\n",
    "      znalezienie pierwiastków równania kwadratowego:\n",
    "  <br> <br> <br> \n",
    "    $$\n",
    "    \\huge{\n",
    "     a\\cdot x^{2} + b\\cdot x + c = 0\n",
    "    }\n",
    "    $$\n",
    "    </div>\n",
    "</div>"
   ]
  },
  {
   "cell_type": "code",
   "execution_count": null,
   "id": "330cfd81",
   "metadata": {
    "slideshow": {
     "slide_type": "slide"
    },
    "tags": []
   },
   "outputs": [],
   "source": [
    "import numpy as np\n",
    "import matplotlib.pyplot as plt\n",
    "a = np.random.default_rng().uniform(-1,1)\n",
    "b = np.random.default_rng().uniform(-1,1)\n",
    "c = np.random.default_rng().uniform(-1,1)\n",
    "\n",
    "X = np.random.default_rng().uniform(-10,10,1000)\n",
    "Y = a*X*X + b*X + c\n",
    "\n",
    "fig, axis = plt.subplots(1,1, figsize=(5,5))\n",
    "axis.plot([-10,10],[0,0], color=\"black\");\n",
    "axis.plot(X,Y,\"p\", markersize=1, color=\"red\", label = \"a={:3.2f}\\n b={:3.2f}\\nc={:3.2f}\".format(a,b,c))\n",
    "axis.legend();"
   ]
  },
  {
   "cell_type": "code",
   "execution_count": null,
   "id": "b523c978",
   "metadata": {
    "slideshow": {
     "slide_type": "slide"
    },
    "tags": []
   },
   "outputs": [],
   "source": [
    "def quadraticEqSolution(coeff):\n",
    "    a = coeff[:,0:1]\n",
    "    b = coeff[:,1:2]\n",
    "    c = coeff[:,2:3]\n",
    "    \n",
    "    delta = b**2 - 4*a*c\n",
    "    delta = delta.reshape(-1,1)\n",
    "    \n",
    "    result = np.where(delta>0, np.sqrt(delta), 0.0)\n",
    "    result = result*np.array([-1,1])\n",
    "    result = (result - b)/(2.0*a)\n",
    "    result = np.where(delta>0, result, None)\n",
    "    \n",
    "    return result \n",
    "#######################\n",
    "result = quadraticEqSolution(np.array([[a,b,c]]))  \n",
    "\n",
    "print(\"Result:\",result)\n",
    "if result.any():\n",
    "    print(\"Solution check:\", a*result**2+b*result+c)"
   ]
  },
  {
   "cell_type": "markdown",
   "id": "6c59e91e",
   "metadata": {
    "slideshow": {
     "slide_type": "slide"
    }
   },
   "source": [
    "<div class=\"row\">\n",
    "  <div class=\"col-md-6\" markdown=\"1\">\n",
    "  <img height=\"600px\" class=\"center-block\" alt=\"block diagram\", src=\"./fig_png/diagram_3.png\">\n",
    "  </div>\n",
    "  <div class=\"col-md-6\" markdown=\"1\"> \n",
    "      \n",
    "   **Podejście \"klasyczne\"** - dla każdego zagadnienia definiujemy (my=człowiek) odpowiedni algorytm.\n",
    "    <br> <br> <br> \n",
    "          \n",
    "   </div>\n",
    "</div>"
   ]
  },
  {
   "cell_type": "markdown",
   "id": "1af0835c",
   "metadata": {
    "slideshow": {
     "slide_type": "slide"
    }
   },
   "source": [
    "<div class=\"row\">\n",
    "  <div class=\"col-md-6\" markdown=\"1\">\n",
    "  <img height=\"600px\" class=\"center-block\" alt=\"block diagram\", src=\"./fig_png/diagram_4.png\">\n",
    "  </div>\n",
    "  <div class=\"col-md-6\" markdown=\"1\"> \n",
    "      \n",
    "   **Podejście \"maszynowe\"** - definiujemy zbiór funkcji, numerowawany parametrami $\\theta$:\n",
    "    <br> <br> <br> \n",
    "    $$\n",
    "    \\huge{\n",
    "     f(X, \\theta)\n",
    "    }\n",
    "    $$\n",
    "    <br> <br> <br>\n",
    "    który może zawierać funkcję która rozwiązuje nasz problem:\n",
    "    <br> <br> <br> \n",
    "    $$\n",
    "    \\huge{\n",
    "     f(X, \\hat{\\theta}) = Y\n",
    "    }\n",
    "    $$\n",
    "          \n",
    "   </div>\n",
    "</div>"
   ]
  },
  {
   "cell_type": "code",
   "execution_count": null,
   "id": "0ab078db",
   "metadata": {
    "slideshow": {
     "slide_type": "slide"
    }
   },
   "outputs": [],
   "source": [
    "X = np.random.default_rng().uniform(-1,1,(10000,3))\n",
    "Y = quadraticEqSolution(X) \n",
    "Y = (Y[:,0]!=None).reshape(-1,1)\n",
    "\n",
    "print(\"Random quadratic equation:\",X[0])\n",
    "print(\"This equation has a solution:\",Y[0])"
   ]
  },
  {
   "cell_type": "code",
   "execution_count": null,
   "id": "8336dbf0",
   "metadata": {
    "slideshow": {
     "slide_type": "slide"
    }
   },
   "outputs": [],
   "source": [
    "nPoints = 500\n",
    "import plotly.express as px\n",
    "fig = px.scatter_3d(x=X[0:nPoints,0], y=X[0:nPoints,1], z=X[0:nPoints,2], \n",
    "                    color=Y[0:nPoints,0], size = np.full((nPoints), 0.1),\n",
    "                    labels={\"x\":\"a\", \"y\":\"b\", \"z\":\"c\"})\n",
    "fig.show()"
   ]
  },
  {
   "cell_type": "markdown",
   "id": "0a826af7",
   "metadata": {
    "slideshow": {
     "slide_type": "slide"
    }
   },
   "source": [
    "**Pytanie:** czy istnieje zbiór funkcji $f(X, \\theta)$ który zawiera funkcję poszukiwaną dla danego problemu?"
   ]
  },
  {
   "cell_type": "markdown",
   "id": "75e7b7c7",
   "metadata": {
    "slideshow": {
     "slide_type": "fragment"
    }
   },
   "source": [
    "**Odpowiedź:** Oczywiście -  są na to odpowiednie twierdzenia, np. twierdzenie o szeregach Fouriera: każdą funkcję okresową można przedstawić jako szereg: \n",
    "\n",
    "  $$\n",
    "    \\huge{\n",
    "    f(X, a_{n}, b_{n}) = \\frac{a_{0}}{2} + \\\\\n",
    "    \\sum_{n=1}^{\\infty} a_{n}\\cos(n \\omega x) + b_{n}\\sin(n \\omega x),~\\omega = \\frac{2\\pi}{T}\n",
    "    }\n",
    "    $$"
   ]
  },
  {
   "cell_type": "markdown",
   "id": "6971e612",
   "metadata": {
    "slideshow": {
     "slide_type": "slide"
    }
   },
   "source": [
    "**Zagadnienie**: pewien problem jest rozwiązywany przez funkcję, która ma postać:\n",
    "\n",
    "$$\n",
    "    \\huge{\n",
    "    f(X) = \n",
    "    \\begin{cases}\n",
    "  1 & \\text{gdy x>0 i x<0.5} \\\\\n",
    "  0 & \\text{w każdym innym przypadku}\n",
    " \\end{cases}\n",
    "    }\n",
    "$$      "
   ]
  },
  {
   "cell_type": "code",
   "execution_count": null,
   "id": "e18a58ab",
   "metadata": {
    "scrolled": true,
    "slideshow": {
     "slide_type": "slide"
    }
   },
   "outputs": [],
   "source": [
    "import matplotlib.pyplot as plt\n",
    "\n",
    "X = np.random.default_rng().uniform(0,1,1000)\n",
    "Y = (X>0)*(X<0.5)\n",
    "Y = Y.astype(np.float64)\n",
    "\n",
    "fig, axis = plt.subplots(1,1, figsize=(5,5))\n",
    "axis.plot(X,Y,\"o\", color=\"red\");"
   ]
  },
  {
   "cell_type": "code",
   "execution_count": null,
   "id": "949a18da",
   "metadata": {
    "slideshow": {
     "slide_type": "slide"
    }
   },
   "outputs": [],
   "source": [
    "nMax = 0\n",
    "omega = 2*np.pi/1.0\n",
    "\n",
    "Y_model = np.full_like(X,0.5)\n",
    "for n in range(1,nMax+1, 2):\n",
    "   Y_model += 2.0/np.pi*1/n*np.sin(omega*n*X) \n",
    "\n",
    "fig, axis = plt.subplots(1,1, figsize=(5,5))\n",
    "axis.plot(X,Y,\"o\", color=\"red\", label=\"Dane\");\n",
    "axis.plot(X,Y_model,\"o\", markersize=2, label=\"Model\");\n",
    "axis.legend();"
   ]
  },
  {
   "cell_type": "markdown",
   "id": "7f795bc8",
   "metadata": {
    "slideshow": {
     "slide_type": "slide"
    }
   },
   "source": [
    "...są też inne twierdzenia, np. twierdzenie Taylora, które mówi, że każdą (rozsądną) funkcję można zapisać jako nieskończoną sumę wielomianów: \n",
    "\n",
    "$$\n",
    "\\huge{\n",
    "f(x, a_{n}) = \n",
    "\\sum_{n=0}^{\\infty} a_{n}x^{n} = \\\\\n",
    "a_{0} + a_{1}x + a_{2}x^{2} +...\n",
    "}\n",
    "$$"
   ]
  },
  {
   "cell_type": "markdown",
   "id": "8cc68185",
   "metadata": {
    "slideshow": {
     "slide_type": "slide"
    }
   },
   "source": [
    "<div class=\"row\">\n",
    "  <div class=\"col-md-7\" markdown=\"1\">\n",
    "  <img height=\"700px\" class=\"center-block\" alt=\"block diagram\", src=\"./fig_png/diagram_5.png\">\n",
    "  </div>\n",
    "  <div class=\"col-md-5\" markdown=\"1\"> \n",
    "      Model: \n",
    "      <br> <br>\n",
    "    $$\n",
    "    \\huge{\n",
    "     Y(X, a_{n}) = \\\\\n",
    "     \\sum_{n=0}^{n} a_{n}x^{n}\n",
    "    }\n",
    "    $$\n",
    "          \n",
    "   </div>\n",
    "</div>"
   ]
  },
  {
   "cell_type": "markdown",
   "id": "54ad4466",
   "metadata": {
    "slideshow": {
     "slide_type": "slide"
    }
   },
   "source": [
    "dla funkcji $\\sin(x)$ szereg Taylora ma postać:\n",
    "\n",
    "$$\n",
    " \\huge{\n",
    "    \\sin(x) = x - \\frac{x^{3}}{3!} + \\frac{x^{5}}{5!} - ... \\\\ \n",
    "    = \\sum_{k=0}^{k=\\infty} (-1)^{k}\\frac{x^{2k+1}}{(2k+1)!}\n",
    "    }\n",
    "$$"
   ]
  },
  {
   "cell_type": "markdown",
   "id": "bf8d8250",
   "metadata": {
    "slideshow": {
     "slide_type": "slide"
    }
   },
   "source": [
    "zobaczmy jak możemy obliczyć silnię w komputerze:\n",
    "\n",
    "$$\n",
    " \\huge{\n",
    "    n! = 1 \\cdot 2 \\cdot ... \\cdot (n-1) \\cdot n\n",
    "    }\n",
    "$$"
   ]
  },
  {
   "cell_type": "code",
   "execution_count": null,
   "id": "04abe931",
   "metadata": {
    "slideshow": {
     "slide_type": "fragment"
    }
   },
   "outputs": [],
   "source": [
    "n = 100\n",
    "factorial = np.math.factorial(n)\n",
    "print(\"n! =\",factorial)"
   ]
  },
  {
   "cell_type": "markdown",
   "id": "c234b656",
   "metadata": {
    "slideshow": {
     "slide_type": "slide"
    }
   },
   "source": [
    "obliczanie silni dla dużych liczb jest problematyczne. Użyjemy sztuczki:\n",
    "\n",
    "\n",
    "$$\n",
    " \\huge{\n",
    "    \\frac{z^{53}}{53!} = \\frac{z^{51}}{51!} \\cdot \\frac{z^{2}}{52 \\cdot 53} \n",
    "    }\n",
    "$$"
   ]
  },
  {
   "cell_type": "code",
   "execution_count": null,
   "id": "fc434ee9",
   "metadata": {
    "slideshow": {
     "slide_type": "fragment"
    }
   },
   "outputs": [],
   "source": [
    "z = 0.5\n",
    "previousTerm = 0.0123\n",
    "k = 10\n",
    "\n",
    "nextTerm = previousTerm*np.power(z,2)/(2*k)/(2*k+1)\n",
    "print(\"nextTerm:\",nextTerm)"
   ]
  },
  {
   "cell_type": "code",
   "execution_count": null,
   "id": "d083f7bf",
   "metadata": {
    "scrolled": true,
    "slideshow": {
     "slide_type": "slide"
    }
   },
   "outputs": [],
   "source": [
    "n = 1\n",
    "omega = 2*np.pi/1.0\n",
    "Y_model = omega*n*X\n",
    "kMax = 1\n",
    "\n",
    "tmpTerm = omega*n*X\n",
    "for k in range(1,kMax,1):\n",
    "    tmpTerm *= np.power(omega*n*X,2)/(2*k)/(2*k+1)\n",
    "    Y_model += np.power(-1,k)*tmpTerm\n",
    "        \n",
    "fig, axis = plt.subplots(1,1, figsize=(5,5))\n",
    "axis.plot(X,Y_model,\"o\", markersize=2, label=\"Model\");\n",
    "axis.set_ylim(-1,1);"
   ]
  },
  {
   "cell_type": "markdown",
   "id": "09a64b64",
   "metadata": {
    "slideshow": {
     "slide_type": "slide"
    }
   },
   "source": [
    "Rozwinięcia są znane tylko dla niektórych funkcji. Dla funkcji które spotykamy w rzeczywistych zagadnieniach nie są znane współczynniki rozwinięć, nawet same funkcje nie są znane!\n",
    "<br><br><br>\n",
    "Co zrobić z tym wypadku?\n",
    "<br><br><br>\n",
    "Trzeba znaleźć współczynniki rozwinięcia metodą \"eksperymentalną\":"
   ]
  },
  {
   "cell_type": "markdown",
   "id": "21f30d51",
   "metadata": {
    "slideshow": {
     "slide_type": "slide"
    }
   },
   "source": [
    "<br>\n",
    "<br>\n",
    "\n",
    "1) **definiujemy** model: wybieramy jakąś bazę funkcji: ($\\sin(x)$, $~\\cos(x)$, $~x^{n}$, ...) "
   ]
  },
  {
   "cell_type": "markdown",
   "id": "fb384326",
   "metadata": {
    "slideshow": {
     "slide_type": "fragment"
    }
   },
   "source": [
    "<br>\n",
    "<br>\n",
    "\n",
    "2) **trenujemy** model: znajdujemy współczynniki rozwinięcia naszej nieznanej fukcji używając jakiegoś algorytmu "
   ]
  },
  {
   "cell_type": "markdown",
   "id": "ed3ed594",
   "metadata": {
    "slideshow": {
     "slide_type": "fragment"
    }
   },
   "source": [
    "<br>\n",
    "<br>\n",
    "\n",
    "3) używamy znalezionych współczynników mając nadzieję że są poprawne..."
   ]
  },
  {
   "cell_type": "markdown",
   "id": "21a07c74-08a7-41cb-b4c2-ee214b3d1622",
   "metadata": {
    "slideshow": {
     "slide_type": "slide"
    },
    "tags": []
   },
   "source": [
    "Parametry modelu znajdujemy minimalizując miarę zgodności modelu z danymi -  **funkcję straty** (ang. loss function):\n",
    "<br>\n",
    "<br>\n",
    "\n",
    "$$\n",
    "\\huge{\n",
    "L(f(X), Y)\n",
    "}\n",
    "$$\n",
    "\n",
    "<br>\n",
    "<br>\n",
    "\n",
    "funkcja straty zależy od zagadnienia. W sytuacji gdy model ma przewidywać wartość o dowolnym zakresie używamy zwykle **średniego błędu kwadratowego:**"
   ]
  },
  {
   "cell_type": "markdown",
   "id": "e7ba1fdc-8b2c-4545-8546-be64162a6c68",
   "metadata": {
    "slideshow": {
     "slide_type": "slide"
    },
    "tags": []
   },
   "source": [
    "\n",
    "\n",
    "$$\n",
    "\\huge{\n",
    "L(f(X), Y) = \\frac{1}{N} \\sum_{X} (f(x) - y)^{2}\n",
    "}\n",
    "$$\n",
    "\n",
    "gdzie N to rozmiar zbioru danych."
   ]
  },
  {
   "cell_type": "markdown",
   "id": "92ecbf02-376e-4714-932c-c33754c02187",
   "metadata": {
    "slideshow": {
     "slide_type": "slide"
    },
    "tags": []
   },
   "source": [
    "\n",
    "\n",
    "W jaki sposób znajdujemy optymalne parametrey modelu? \n",
    "\n",
    "\n",
    "`Obliczamy zmianę funkcji straty względem parametrów modelu, następnie zmieniamy trochę parametry tak by funkcja straty zmalała.`$^{*}$\n",
    "\n",
    "\n",
    "Procedurę powtarzamy tak długo, aż... jesteśmy zadowoleni z wyniku.\n",
    "\n",
    "<br><br><br><br><br><br><br><br>\n",
    "$^{*}$ - obliczamy gradient funkcji straty względem parametrów modelu: $\\nabla_{\\theta} L$ i zmieniamy parametry w kierunku przeciwnym do wskazanego przez gradient."
   ]
  },
  {
   "cell_type": "code",
   "execution_count": 36,
   "id": "30c32163",
   "metadata": {
    "slideshow": {
     "slide_type": "slide"
    }
   },
   "outputs": [
    {
     "data": {
      "image/png": "[encoded data removed]",
      "text/plain": [
       "<Figure size 500x500 with 1 Axes>"
      ]
     },
     "metadata": {},
     "output_type": "display_data"
    }
   ],
   "source": [
    "theta = np.linspace(-10,10,200)\n",
    "L = theta**2-theta + 2\n",
    "\n",
    "fig, axis = plt.subplots(1,1, figsize=(5,5))\n",
    "axis.plot(theta,L,\"o\", markersize=2, label=r\"L($\\theta$)\");\n",
    "axis.set_xlim(-6,-4);\n",
    "axis.legend();"
   ]
  },
  {
   "cell_type": "markdown",
   "id": "119eb40c-6e9b-4bd0-945a-ba7fdc154403",
   "metadata": {
    "slideshow": {
     "slide_type": "slide"
    },
    "tags": []
   },
   "source": [
    "1) wybieramy początkowe parametry modelu: $\\theta$\n"
   ]
  },
  {
   "cell_type": "markdown",
   "id": "2a01f6e0",
   "metadata": {
    "slideshow": {
     "slide_type": "fragment"
    }
   },
   "source": [
    "2) wybieramy część danych i obliczamy na niej wartość funkcji straty: `batch`"
   ]
  },
  {
   "cell_type": "markdown",
   "id": "01001992",
   "metadata": {
    "slideshow": {
     "slide_type": "fragment"
    }
   },
   "source": [
    "3) obliczamy zmianę funkcji straty względem parametrów: $\\nabla_{\\theta} L$"
   ]
  },
  {
   "cell_type": "markdown",
   "id": "f88b07ea-d2a5-42c3-ae5e-d94f975c64df",
   "metadata": {
    "slideshow": {
     "slide_type": "fragment"
    },
    "tags": []
   },
   "source": [
    "4) zmieniamy parametry $\\theta$ proporcjonalnie do zmiany funkcji straty, parametr proporcjonalności $\\alpha$ to `współczynnik uczenia` (ang. `learning rate`):\n",
    "<br>\n",
    "<br>\n",
    "$$\n",
    "\\huge{\n",
    " \\theta_{new} = \\theta_{old} - \\alpha \\cdot \\nabla_{\\theta} L\n",
    "}\n",
    "$$\n",
    "<br>"
   ]
  },
  {
   "cell_type": "markdown",
   "id": "6c94a192",
   "metadata": {
    "slideshow": {
     "slide_type": "fragment"
    }
   },
   "source": [
    "5) przechodzimy przez wszystkie dane w paczkach. Jedno przejście przez wszystkie dane to `epoka` (ang. `epoch`)"
   ]
  },
  {
   "cell_type": "markdown",
   "id": "aa23d24d-e4ae-4614-ae83-a724e43b2fc4",
   "metadata": {
    "slideshow": {
     "slide_type": "slide"
    }
   },
   "source": [
    "Przeprowadźmy procedurę `treningu` dla modelu wynikającego z twierdzenia Taylora: \n",
    "<br>\n",
    "<br>\n",
    "$$\n",
    "\\huge{\n",
    "f(x, a_{n}) = \n",
    "\\sum_{n=0}^{\\text{polyDegree}} a_{n}x^{n} = \\\\\n",
    "a_{0} + a_{1}x + a_{2}x^{2} + ... + a_{\\text{polyDegree}}x^{\\text{polyDegree}}\n",
    "}\n",
    "$$\n",
    "<br>\n",
    "<br>\n",
    "\n",
    "W tej sytuacji nasz model jest wielomianem stopnia `polyDegree`."
   ]
  },
  {
   "cell_type": "code",
   "execution_count": null,
   "id": "1ada5afc",
   "metadata": {
    "slideshow": {
     "slide_type": "slide"
    },
    "tags": []
   },
   "outputs": [],
   "source": [
    "polyDegree = 0\n",
    "\n",
    "model = np.polynomial.polynomial.Polynomial(coef=np.zeros(polyDegree+1))\n",
    "model = model.fit(X,Y, deg = polyDegree)\n",
    "Y_model = model(X)\n",
    "\n",
    "fig, axes = plt.subplots(1,2, figsize=(10,5))\n",
    "axes[0].plot(X,Y,\"o\", color=\"red\", label=\"Dane\");\n",
    "axes[0].plot(X,Y_model,\"o\", markersize=2, label=\"Model\");\n",
    "axes[0].legend()\n",
    "\n",
    "axes[1].plot(model.convert().coef,\"o\", color=\"red\", label=\"Coefficients\");\n",
    "axes[1].legend();"
   ]
  },
  {
   "cell_type": "markdown",
   "id": "3ff28b62-3a5e-4400-8495-603fb867c813",
   "metadata": {
    "slideshow": {
     "slide_type": "slide"
    }
   },
   "source": [
    "Funkcja której używamy jako bazy nazywa się **funkcją aktywacji**. Zamiast funkcji trygonometrycznych, czy wielomianów w uczeniu maszynowym zwykle używa się znacznie prostrzej funkcji - funkcji ReLU (ang. \"Rectified Linear Unit):\n",
    "<br><br><br><br>\n",
    "$$\n",
    "\\huge{\n",
    "    a(x) = \n",
    "    \\begin{cases}\n",
    "  0 & \\text{gdy x < 0} \\\\\n",
    "  x & \\text{gdy x}\\geq 0\n",
    " \\end{cases}\n",
    "    } \n",
    "$$\n",
    "<br><br><br>\n",
    "...jest oczywiście odpowiednie twierdzenie, które mówi że dowolną funkcję można zapisać jako nieskończoną sumę funkcji `ReLU`."
   ]
  },
  {
   "cell_type": "code",
   "execution_count": null,
   "id": "26a54c39",
   "metadata": {
    "scrolled": true,
    "slideshow": {
     "slide_type": "slide"
    }
   },
   "outputs": [],
   "source": [
    "xx = np.linspace(-1,1,100)\n",
    "a = xx*(xx>0)\n",
    "\n",
    "fig, axis = plt.subplots(1,1, figsize=(5,5))\n",
    "axis.plot(xx, a, \"o\", color=\"red\", label=\"ReLU\");\n",
    "axis.legend();"
   ]
  },
  {
   "cell_type": "markdown",
   "id": "59db6a5a",
   "metadata": {
    "slideshow": {
     "slide_type": "slide"
    }
   },
   "source": [
    "<div class=\"row\">\n",
    "  <div class=\"col-md-7\" markdown=\"1\">\n",
    "  <img height=\"600px\" class=\"center-block\" alt=\"block diagram\", src=\"./fig_png/diagram_6.png\">\n",
    "  </div>\n",
    "  <div class=\"col-md-5\" markdown=\"1\"> \n",
    "      Model: \n",
    "      <br> <br>\n",
    "    $$\n",
    "    \\Large{\n",
    "     Y(X, a_{n}) = \\\\\n",
    "     \\sum_{n=0}^{n_{max}} a_{n}ReLU(w_{n}x + b_{n})\n",
    "    }\n",
    "    $$\n",
    "          \n",
    "   </div>\n",
    "</div>"
   ]
  },
  {
   "cell_type": "code",
   "execution_count": null,
   "id": "40c0bf28-8e54-4bba-abec-34db7638c0ff",
   "metadata": {
    "slideshow": {
     "slide_type": "slide"
    },
    "tags": []
   },
   "outputs": [],
   "source": [
    "import os\n",
    "os.environ['TF_CPP_MIN_LOG_LEVEL'] = '2'\n",
    "import tensorflow as tf\n",
    "\n",
    "nUnits = 32\n",
    "\n",
    "inputs = tf.keras.Input(shape=(1,))\n",
    "layer = tf.keras.layers.Dense(nUnits, activation='relu')(inputs)\n",
    "outputs = tf.keras.layers.Dense(1, activation='linear')(layer)\n",
    "\n",
    "\n",
    "model = tf.keras.Model(inputs=inputs, outputs=outputs)\n",
    "model.compile(loss = 'mse')"
   ]
  },
  {
   "cell_type": "code",
   "execution_count": null,
   "id": "263e6375-37b1-4bd9-8101-32bbdee5e012",
   "metadata": {
    "scrolled": true,
    "slideshow": {
     "slide_type": "slide"
    },
    "tags": []
   },
   "outputs": [],
   "source": [
    "Y = (X>0)*(X<0.5)\n",
    "\n",
    "history = model.fit(X,Y,epochs=50, verbose=0)\n",
    "Y_model = model.predict(X)\n",
    "\n",
    "fig, axes = plt.subplots(1,2, figsize=(11,5))\n",
    "axes[0].plot(X,Y,\"o\", color=\"red\", label=\"Dane\");\n",
    "axes[0].plot(X,Y_model,\"o\", markersize=2, label=\"Model\");\n",
    "axes[0].legend()\n",
    "\n",
    "axes[1].plot(history.history['loss'], label = 'train')\n",
    "axes[1].set_xlabel('Epoch')\n",
    "axes[1].set_ylabel('Loss function');"
   ]
  },
  {
   "cell_type": "markdown",
   "id": "0d8db5c0",
   "metadata": {
    "slideshow": {
     "slide_type": "slide"
    }
   },
   "source": [
    "<div class=\"row\">\n",
    "  <div class=\"col-md-12\" markdown=\"1\">\n",
    "  <img height=\"800px\" class=\"center-block\" alt=\"block diagram\", src=\"./fig_png/diagram_7.png\">\n",
    "  </div>\n",
    "  <div class=\"col-md-0\" markdown=\"1\">           \n",
    "   </div>\n",
    "</div>"
   ]
  },
  {
   "cell_type": "code",
   "execution_count": null,
   "id": "1b60139d-a8ef-4600-a1fd-6bf60ce525b7",
   "metadata": {
    "slideshow": {
     "slide_type": "slide"
    }
   },
   "outputs": [],
   "source": [
    "import os\n",
    "os.environ['TF_CPP_MIN_LOG_LEVEL'] = '1'\n",
    "import tensorflow as tf\n",
    "\n",
    "nUnits = 32\n",
    "\n",
    "inputs = tf.keras.Input(shape=(1,))\n",
    "\n",
    "layer1 = tf.keras.layers.Dense(nUnits, activation='relu')(inputs)\n",
    "layer2 = tf.keras.layers.Dense(nUnits, activation='relu')(layer1)\n",
    "    \n",
    "    \n",
    "outputs = tf.keras.layers.Dense(1, activation='linear')(layer2)\n",
    "model = tf.keras.Model(inputs=inputs, outputs=outputs)\n",
    "model.compile(loss = 'mse')"
   ]
  },
  {
   "cell_type": "code",
   "execution_count": null,
   "id": "580c5e8f",
   "metadata": {
    "slideshow": {
     "slide_type": "slide"
    }
   },
   "outputs": [],
   "source": [
    "Y = (X>0)*(X<0.5)\n",
    "\n",
    "history = model.fit(X,Y,epochs=150, verbose=0)\n",
    "Y_model = model.predict(X)\n",
    "\n",
    "fig, axes = plt.subplots(1,2, figsize=(11,5))\n",
    "axes[0].plot(X,Y,\"o\", color=\"red\", label=\"Dane\");\n",
    "axes[0].plot(X,Y_model,\"o\", markersize=2, label=\"Model\");\n",
    "axes[0].legend()\n",
    "\n",
    "axes[1].plot(history.history['loss'], label = 'train')\n",
    "axes[1].set_xlabel('Epoch')\n",
    "axes[1].set_ylabel('Loss function');"
   ]
  },
  {
   "cell_type": "markdown",
   "id": "f4dc76b9",
   "metadata": {},
   "source": [
    "<div class=\"row\">\n",
    "  <div class=\"col-md-12\" markdown=\"1\">\n",
    "  <img height=\"800px\" class=\"center-block\" alt=\"block diagram\", src=\"./fig_png/diagram_8.png\">\n",
    "  </div>\n",
    "  <div class=\"col-md-0\" markdown=\"1\">           \n",
    "   </div>\n",
    "</div>"
   ]
  },
  {
   "cell_type": "markdown",
   "id": "fb902327",
   "metadata": {
    "slideshow": {
     "slide_type": "slide"
    }
   },
   "source": [
    "## Przykład uczenia maszynowego:\n",
    "\n",
    "* znajdowanie algorytmu wskazującego czy równanie kwadratowe ma rozwiązanie\n",
    "\n",
    "* przygotowanie danych do treningu:"
   ]
  },
  {
   "cell_type": "code",
   "execution_count": null,
   "id": "fe3b9645",
   "metadata": {
    "slideshow": {
     "slide_type": "fragment"
    }
   },
   "outputs": [],
   "source": [
    "import numpy as np\n",
    "\n",
    "X = np.random.default_rng().uniform(-1,1,(1000,3))\n",
    "Y = quadraticEqSolution(X) \n",
    "Y = (Y[:,0]!=None).reshape(-1,1)"
   ]
  },
  {
   "cell_type": "code",
   "execution_count": null,
   "id": "d9e01444",
   "metadata": {
    "slideshow": {
     "slide_type": "slide"
    }
   },
   "outputs": [],
   "source": [
    "fig = plt.figure(figsize=(8,8))\n",
    "axis = fig.add_subplot(projection='3d')\n",
    "axis.scatter(X[:,0:1], X[:,1:2], X[:,2:3], c=Y);"
   ]
  },
  {
   "cell_type": "markdown",
   "id": "c2cc6195",
   "metadata": {
    "slideshow": {
     "slide_type": "slide"
    }
   },
   "source": [
    "* definicja modelu, inaczej:  **architektury**"
   ]
  },
  {
   "cell_type": "code",
   "execution_count": null,
   "id": "b7032662",
   "metadata": {
    "slideshow": {
     "slide_type": "fragment"
    }
   },
   "outputs": [],
   "source": [
    "import tensorflow as tf\n",
    "\n",
    "nUnits = 32\n",
    "\n",
    "inputs = tf.keras.Input(shape=(3,))\n",
    "\n",
    "layer1 = tf.keras.layers.Dense(nUnits, activation='relu')(inputs)\n",
    "layer2 = tf.keras.layers.Dense(nUnits, activation='relu')(layer1)\n",
    "    \n",
    "outputs = tf.keras.layers.Dense(1, activation='sigmoid')(layer2)\n",
    "\n",
    "model = tf.keras.Model(inputs=inputs, outputs=outputs)\n",
    "model.compile(loss = 'binary_crossentropy')"
   ]
  },
  {
   "cell_type": "code",
   "execution_count": null,
   "id": "9e8f72b3",
   "metadata": {
    "scrolled": true,
    "slideshow": {
     "slide_type": "slide"
    }
   },
   "outputs": [],
   "source": [
    "fig, axis = plt.subplots(1,1, figsize=(5,5))\n",
    "xx = np.random.default_rng().uniform(-100,100,(1000,1))\n",
    "yy = tf.keras.layers.Dense(1, activation='sigmoid')(xx)\n",
    "\n",
    "axis.plot(xx,yy,\"o\",  color=\"red\", label=\"Sigmoid\");\n",
    "axis.legend();"
   ]
  },
  {
   "cell_type": "markdown",
   "id": "dba26a23",
   "metadata": {
    "slideshow": {
     "slide_type": "slide"
    }
   },
   "source": [
    "* trening modelu"
   ]
  },
  {
   "cell_type": "code",
   "execution_count": null,
   "id": "208541e8",
   "metadata": {
    "slideshow": {
     "slide_type": "fragment"
    }
   },
   "outputs": [],
   "source": [
    "#X = np.random.default_rng().uniform(-1,1,(100,3))\n",
    "#Y = np.random.default_rng().uniform(0,1, (100,1))>0.5\n",
    "history = model.fit(X,Y,epochs=1500, verbose=0)\n",
    "Y_model = (model.predict(X)>0.5).astype(float)"
   ]
  },
  {
   "cell_type": "markdown",
   "id": "1153904e",
   "metadata": {
    "slideshow": {
     "slide_type": "slide"
    }
   },
   "source": [
    "* sprawdzenie poprawności działania modelu"
   ]
  },
  {
   "cell_type": "code",
   "execution_count": null,
   "id": "6091745b",
   "metadata": {
    "slideshow": {
     "slide_type": "fragment"
    }
   },
   "outputs": [],
   "source": [
    "#Y = np.random.default_rng().uniform(0,1, (100,1))>0.5\n",
    "\n",
    "fig, axes = plt.subplots(1,2, figsize=(11,5))\n",
    "axes[0].hist( (Y==Y_model).astype(int), bins=np.linspace(-1.5,2.5,5), density=True, label=\"True-Model\");\n",
    "axes[0].legend()\n",
    "\n",
    "axes[1].plot(history.history['loss'])\n",
    "axes[1].set_xlabel('Epoch');\n",
    "print(\"Correct answers fraction:\",np.mean(Y==Y_model))"
   ]
  },
  {
   "cell_type": "markdown",
   "id": "77ad6969",
   "metadata": {
    "slideshow": {
     "slide_type": "slide"
    }
   },
   "source": [
    "* jak wygląda zgodność modelu z prawdą w trójwymiartowej przestrzeni współczynników równania kwadratowego: $a$,$b$, $c$?"
   ]
  },
  {
   "cell_type": "code",
   "execution_count": null,
   "id": "5675d43f",
   "metadata": {
    "slideshow": {
     "slide_type": "fragment"
    }
   },
   "outputs": [],
   "source": [
    "fig = plt.figure(figsize=(8,8))\n",
    "axis = fig.add_subplot(projection='3d')\n",
    "axis.scatter(X[:,0:1], X[:,1:2], X[:,2:3], c = (Y==Y_model) );"
   ]
  },
  {
   "cell_type": "markdown",
   "id": "c58a3b60",
   "metadata": {
    "slideshow": {
     "slide_type": "slide"
    }
   },
   "source": [
    "## Bardzo ważny wniosek:\n",
    "\n",
    "* duża elastyczność modelu może prowadzić do **przeuczenia** - dopasowania się modelu do konkretnych wyników jaki dostał w danych uczących\n",
    "* **zawsze** trzeba dokładnie sprawdzić działanie modelu na danych, których model \"nie widział\"\n",
    "\n",
    "Dostępne dane zawsze dzielimy na conajmniej dwa zbiory:\n",
    "\n",
    "* **date uczące** - używane do znajdowamia parametrów modelu\n",
    "* **date testowe** - używane do sprawdzanie działania modelu\n",
    "\n",
    "Jednak często nawet to nie wystarcza, ponieważ"
   ]
  },
  {
   "cell_type": "markdown",
   "id": "d46f637d",
   "metadata": {
    "slideshow": {
     "slide_type": "fragment"
    }
   },
   "source": [
    "modyfikując model by uzyskać lepsze wyniki, de facto używamy zbioru testowego do uczenia."
   ]
  },
  {
   "cell_type": "markdown",
   "id": "65d0dd74",
   "metadata": {
    "slideshow": {
     "slide_type": "slide"
    }
   },
   "source": [
    "Optymalny podział to:\n",
    "\n",
    "* **dane uczące** - używane do znajdowania parametrów modelu"
   ]
  },
  {
   "cell_type": "markdown",
   "id": "ec6ddd8b",
   "metadata": {
    "slideshow": {
     "slide_type": "fragment"
    }
   },
   "source": [
    "* **dane testowe** - używane do sprawdzania wydajności kolejnych wersji modelu "
   ]
  },
  {
   "cell_type": "markdown",
   "id": "b5a1f50a",
   "metadata": {
    "slideshow": {
     "slide_type": "fragment"
    }
   },
   "source": [
    "* **dane walidacyjne** - używane tylko raz - do wyznaczenia wydajności ostatecznej wersji modelu"
   ]
  },
  {
   "cell_type": "markdown",
   "id": "a499cecb-5c69-47ba-aef7-0e6706953533",
   "metadata": {
    "slideshow": {
     "slide_type": "slide"
    }
   },
   "source": [
    "Zastosujmy uczenie maszynowe do czegoś poważniejszego:\n",
    "<br><br>\n",
    "**rozpoznawania ręcznie pisanych cyfr**"
   ]
  },
  {
   "cell_type": "code",
   "execution_count": null,
   "id": "69042ee0",
   "metadata": {
    "slideshow": {
     "slide_type": "slide"
    }
   },
   "outputs": [],
   "source": [
    "(X_train, Y_train), (X_test, Y_test) = tf.keras.datasets.mnist.load_data()\n",
    "\n",
    "fig, axes = plt.subplots(1,4, figsize=(18,18))\n",
    "axes = axes.flatten()\n",
    "myIter = iter(axes)\n",
    "\n",
    "for i in range(0,4):\n",
    "    next(myIter).imshow(X_train[i]) "
   ]
  },
  {
   "cell_type": "code",
   "execution_count": null,
   "id": "6340675a",
   "metadata": {
    "slideshow": {
     "slide_type": "slide"
    }
   },
   "outputs": [],
   "source": [
    "import tensorflow as tf\n",
    "\n",
    "nUnits = 32\n",
    "\n",
    "inputs = tf.keras.Input(shape=(28,28,1))\n",
    "\n",
    "layer0 = tf.keras.layers.Flatten()(inputs)\n",
    "layer1 = tf.keras.layers.Dense(nUnits, activation='relu')(layer0)\n",
    "layer2 = tf.keras.layers.Dense(nUnits, activation='relu')(layer1)\n",
    "layer3 = tf.keras.layers.Dense(nUnits, activation='relu')(layer2)   \n",
    "layer4 = tf.keras.layers.Dense(nUnits, activation='relu')(layer3)\n",
    "\n",
    "outputs = tf.keras.layers.Dense(10, activation='softmax')(layer4)\n",
    "\n",
    "model = tf.keras.Model(inputs=inputs, outputs=outputs)\n",
    "model.compile(loss = 'sparse_categorical_crossentropy', metrics=['accuracy'])\n",
    "history = model.fit(X_train, Y_train, epochs=6),"
   ]
  },
  {
   "cell_type": "code",
   "execution_count": null,
   "id": "e778d304",
   "metadata": {
    "slideshow": {
     "slide_type": "slide"
    }
   },
   "outputs": [],
   "source": [
    "Y_model = model.predict(X_test)\n",
    "\n",
    "index = int(np.random.default_rng().uniform(0,len(X_test)))\n",
    "\n",
    "fig, axes = plt.subplots(1,2, figsize=(10,5))\n",
    "axes[0].imshow(X_test[index])\n",
    "axes[0].set_title(\"Label:\"+str(Y_test[index]))\n",
    "axes[1].plot(Y_model[index], \"o\");"
   ]
  },
  {
   "cell_type": "code",
   "execution_count": null,
   "id": "7fc21a4c-18eb-4a00-a727-8344f7b7140c",
   "metadata": {
    "slideshow": {
     "slide_type": "slide"
    },
    "tags": []
   },
   "outputs": [],
   "source": [
    "Y_model = tf.argmax(model.predict(X_test), axis=1)\n",
    "from sklearn.metrics import ConfusionMatrixDisplay\n",
    "fig, axis = plt.subplots(1,1, figsize=(9,9))\n",
    "ConfusionMatrixDisplay.from_predictions(Y_test, Y_model, normalize='true', ax=axis);"
   ]
  },
  {
   "cell_type": "markdown",
   "id": "661d3181",
   "metadata": {
    "slideshow": {
     "slide_type": "slide"
    }
   },
   "source": [
    "...a teraz wreszcie parę słów of ChatGPT:\n",
    "\n",
    "* GPT - Generative Pre-trained Transformers - model którego zadaniem jest przewidywanie następnego wyrazu w podanym zdaniu. \n",
    "\n",
    "* GPT oblicza pradwopodobieństwo wystąpienia znanych mu wyrazów \"kończąc\" zdanie podane przez użytkownika:\n",
    "\n",
    "<img  src=\"./fig_png/chatGPT_1.png\">\n",
    "\n",
    "* zmienność odpowiedzi ChatGPT wynika z losowania wyniku na podstawie prawdopodobieństwa obliczonego przez model "
   ]
  },
  {
   "cell_type": "markdown",
   "id": "146b563e",
   "metadata": {
    "slideshow": {
     "slide_type": "slide"
    }
   },
   "source": [
    "* długość zdania jest ograniczona do 4096 \"znaków\" (ang. token). \"Znak\" to kilka liter, fragment wyrazu\n",
    "* cała rozmowa z ChatGPT jest jedwmy długim \"zdaniem\"\n",
    "* funkcja, którą jest ChatGPT ma **175 miliardów parametrów**\n",
    "* do znalezienia wartości tych parametrów - **treningu** użyto 300 miliardów \"znaków\":\n",
    "\n",
    "\n",
    "<img src=\"./fig_png/chatGPT_2.png\">\n",
    "[https://arxiv.org/pdf/2005.14165v4](https://arxiv.org/pdf/2005.14165v4)"
   ]
  },
  {
   "cell_type": "markdown",
   "id": "d8c5af7d",
   "metadata": {
    "slideshow": {
     "slide_type": "slide"
    }
   },
   "source": [
    "* procedura treningu zużyła około 5000 Petaflopo-dni na kartach graficznych NVidia V100\n",
    "* jedna karta ma wydajność około 100 Teraflopów\n",
    "* jedna karta V100 zużywa 300 W energii\n",
    "* na same zasilanie kart GPU zużyto zatem \n",
    "<br>\n",
    " (całkowite zużycie prądu na zasilanie i chłodzenie komputerów było pewnie około 2 razy większe)\n",
    "\n",
    "<br><br>\n",
    "$$\n",
    " \\Large{\n",
    " \\frac{5~000~000~\\text{Teraflop}\\cdot \\text{ dzień}}{100~\\text{Teraflop/GPU}}\n",
    " \\cdot \n",
    " 300~\\frac{\\text{W}}{\\text{GPU}} \n",
    " \\cdot\n",
    " 24~\\frac{\\text{godzin}}{\\text{dzień}}  \n",
    "    }\n",
    "$$"
   ]
  },
  {
   "cell_type": "code",
   "execution_count": null,
   "id": "618fa9e9",
   "metadata": {
    "slideshow": {
     "slide_type": "fragment"
    }
   },
   "outputs": [],
   "source": [
    "5E6/100*300*24/1000/2000"
   ]
  },
  {
   "cell_type": "markdown",
   "id": "aae36a25",
   "metadata": {
    "slideshow": {
     "slide_type": "slide"
    }
   },
   "source": [
    "## Uczenie maszynowe to:\n",
    "<br>\n",
    "\n",
    "* automatyczne poszukiwanie porządku w danych przez znajdowanie nieznanych funkcji opisujących dane\n",
    "\n",
    "<br><br><br>\n",
    "\n",
    "## Czym się różni się uczenie maszynowe od zwykłego dopasowania funkcji?\n",
    "\n",
    "* uczenie maszynowe znajduje funkcje działające w ogromniej licznie wymiarów - analiza zdjęcia o rozdzielczości 20M pikseli wymaga znalezienia funkcji która działa w 20M wymiarów"
   ]
  },
  {
   "cell_type": "markdown",
   "id": "308d1ada",
   "metadata": {
    "slideshow": {
     "slide_type": "slide"
    },
    "tags": []
   },
   "source": [
    "## Prezentacja w formie interaktywnej:\n",
    "\n",
    "<div class=\"row\">\n",
    "  <div class=\"col-md-6\" markdown=\"1\">\n",
    "    <img height=\"600px\" class=\"center-block\" alt=\"block diagram\", \n",
    "       src=\"./fig_png/google_search.png\">\n",
    "  </div>\n",
    "    \n",
    "  <div class=\"col-md-6\" markdown=\"1\">     \n",
    "  <a target=\"_blank\" href=\"https://colab.research.google.com/github/akalinow/LetniaSzkolaFizyki/blob/2023/Uczenie_maszynowe.ipynb\">\n",
    "  <img src=\"fig_png/colab-badge_large.png\" alt=\"Open In Colab\"/>\n",
    "  </a>\n",
    "      \n",
    "   </div>\n",
    "</div>"
   ]
  },
  {
   "cell_type": "markdown",
   "id": "8e992b82",
   "metadata": {
    "slideshow": {
     "slide_type": "slide"
    }
   },
   "source": [
    "Kod poniżej pozwala sprawdzić jak model działa dla cyfr napisanych przez użytkownika..."
   ]
  },
  {
   "cell_type": "code",
   "execution_count": null,
   "id": "c5682a3b",
   "metadata": {
    "slideshow": {
     "slide_type": "fragment"
    },
    "tags": []
   },
   "outputs": [],
   "source": [
    "def testModelOnMyDigits(model):    \n",
    "    #Code created by M.Fila, University of Warsaw\n",
    "    if not os.path.isdir(\"colab_freehands\"):\n",
    "        !git clone https://github.com/m-fila/colab_freehands.git\n",
    "\n",
    "    from colab_freehands.canvas import Canvas  \n",
    "    canvas = Canvas(line_width=2)\n",
    "    example = (\n",
    "        canvas.to_array(size=(20, 20), margin=(4, 4), dtype=np.float32, weighted=True)\n",
    "    )\n",
    "    example = np.expand_dims(example, (0) )\n",
    "\n",
    "    predictions = model.predict(example)\n",
    "    plt.imshow(example[0], cmap=\"gray\")\n",
    "    plt.show()\n",
    "    print(\"Predicted class: {} ({:.0f}%)\".format(\n",
    "        np.argmax(predictions), np.max(predictions) * 100))\n",
    "   \n",
    "import sys\n",
    "IN_COLAB = 'google.colab' in sys.modules\n",
    "\n",
    "if IN_COLAB: \n",
    "    testModelOnMyDigits(model)   "
   ]
  },
  {
   "cell_type": "markdown",
   "id": "a319e649",
   "metadata": {
    "slideshow": {
     "slide_type": "slide"
    }
   },
   "source": [
    "## Ankieta na temat wykładu:\n",
    "\n",
    "<div class=\"column\">\n",
    "  <div class=\"col-md-11\" markdown=\"1\">\n",
    "   <img  class=\"center-block\" src=\"./fig_png/qrcode.png\">\n",
    "  </div>\n",
    "    \n",
    "  <div class=\"col-md-1\" markdown=\"1\">         \n",
    "   </div>\n",
    "</div>"
   ]
  },
  {
   "cell_type": "code",
   "execution_count": null,
   "id": "bf16d2fb",
   "metadata": {},
   "outputs": [],
   "source": []
  }
 ],
 "metadata": {
  "celltoolbar": "Slideshow",
  "kernelspec": {
   "display_name": "Python 3 (ipykernel)",
   "language": "python",
   "name": "python3"
  },
  "language_info": {
   "codemirror_mode": {
    "name": "ipython",
    "version": 3
   },
   "file_extension": ".py",
   "mimetype": "text/x-python",
   "name": "python",
   "nbconvert_exporter": "python",
   "pygments_lexer": "ipython3",
   "version": "3.8.10"
  },
  "rise": {
   "center": false,
   "controls": false,
   "footer": "<h3>Letnia Szkoła<br>Fizyki 2023</h3>",
   "progress": "true",
   "slideNumber": "c/t",
   "transition": "none"
  }
 },
 "nbformat": 4,
 "nbformat_minor": 5
}
